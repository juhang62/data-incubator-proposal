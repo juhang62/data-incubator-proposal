{
 "cells": [
  {
   "cell_type": "markdown",
   "metadata": {
    "collapsed": true
   },
   "source": [
    "We fit a factor model with probit link to this binary data. We obtain the posterior mean of loading matrix using  Gibbs sampler. This matrix is plotted below where each pair of row elements corresponding to a brand. It can be seen that there is a cluster of brands in the right top corner indicating similarity between those brands. After a preliminary research, we notice that this is a cluster of single malt whiskey. Thus, the factor should be single malt vs blended. The other factor is not so clear to spot and await further investigation. A preliminary guess is advisement budget. In the future study, nature language processing will be employed to further investigate common characteristics of those brands of whiskey. Having done solid explanatory data analysis, we will do better feature selection to create good predictive models. The model will be beneficial in help make marketing decisions.       "
   ]
  },
  {
   "attachments": {},
   "cell_type": "markdown",
   "metadata": {},
   "source": [
    "Inline-style: \n",
    "![alt text](Rplot-loadingmatrix.png \"plot of loading matrix\")"
   ]
  }
 ],
 "metadata": {
  "kernelspec": {
   "display_name": "R",
   "language": "R",
   "name": "r"
  },
  "language_info": {
   "codemirror_mode": "r",
   "file_extension": ".r",
   "mimetype": "text/x-r-source",
   "name": "R",
   "pygments_lexer": "r",
   "version": "3.4.1"
  }
 },
 "nbformat": 4,
 "nbformat_minor": 2
}
